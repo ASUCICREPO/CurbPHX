{
 "cells": [
  {
   "cell_type": "code",
   "execution_count": 1,
   "metadata": {},
   "outputs": [],
   "source": [
    "import geopandas as gpd"
   ]
  },
  {
   "cell_type": "code",
   "execution_count": 2,
   "metadata": {},
   "outputs": [
    {
     "data": {
      "text/html": [
       "<div>\n",
       "<style scoped>\n",
       "    .dataframe tbody tr th:only-of-type {\n",
       "        vertical-align: middle;\n",
       "    }\n",
       "\n",
       "    .dataframe tbody tr th {\n",
       "        vertical-align: top;\n",
       "    }\n",
       "\n",
       "    .dataframe thead th {\n",
       "        text-align: right;\n",
       "    }\n",
       "</style>\n",
       "<table border=\"1\" class=\"dataframe\">\n",
       "  <thead>\n",
       "    <tr style=\"text-align: right;\">\n",
       "      <th></th>\n",
       "      <th>filename</th>\n",
       "      <th>geometry</th>\n",
       "    </tr>\n",
       "  </thead>\n",
       "  <tbody>\n",
       "    <tr>\n",
       "      <th>0</th>\n",
       "      <td>138424.jpg</td>\n",
       "      <td>POINT Z (-94.63049 39.09393 1692.21698)</td>\n",
       "    </tr>\n",
       "    <tr>\n",
       "      <th>1</th>\n",
       "      <td>138425.jpg</td>\n",
       "      <td>POINT Z (-94.63049 39.09400 1691.99017)</td>\n",
       "    </tr>\n",
       "    <tr>\n",
       "      <th>2</th>\n",
       "      <td>138426.jpg</td>\n",
       "      <td>POINT Z (-94.63049 39.09406 1691.97025)</td>\n",
       "    </tr>\n",
       "    <tr>\n",
       "      <th>3</th>\n",
       "      <td>138427.jpg</td>\n",
       "      <td>POINT Z (-94.63049 39.09413 1692.29222)</td>\n",
       "    </tr>\n",
       "    <tr>\n",
       "      <th>4</th>\n",
       "      <td>63231.jpg</td>\n",
       "      <td>POINT Z (-94.63366 39.11982 1690.36476)</td>\n",
       "    </tr>\n",
       "  </tbody>\n",
       "</table>\n",
       "</div>"
      ],
      "text/plain": [
       "     filename                                 geometry\n",
       "0  138424.jpg  POINT Z (-94.63049 39.09393 1692.21698)\n",
       "1  138425.jpg  POINT Z (-94.63049 39.09400 1691.99017)\n",
       "2  138426.jpg  POINT Z (-94.63049 39.09406 1691.97025)\n",
       "3  138427.jpg  POINT Z (-94.63049 39.09413 1692.29222)\n",
       "4   63231.jpg  POINT Z (-94.63366 39.11982 1690.36476)"
      ]
     },
     "execution_count": 2,
     "metadata": {},
     "output_type": "execute_result"
    }
   ],
   "source": [
    "gdf = gpd.read_file(r\"C:\\Users\\Soham\\Desktop\\SCCIC\\PHX Pedestrian\\EagleView Imagery\\shapefiles\\kansas\\kansas_center.shp\")\n",
    "gdf.head()"
   ]
  },
  {
   "cell_type": "code",
   "execution_count": 9,
   "metadata": {},
   "outputs": [],
   "source": [
    "import shutil\n",
    "gdf.to_file('test', driver='ESRI Shapefile')\n",
    " # Compress folder into 'foo.zip'\n",
    "shutil.make_archive('test', 'zip', root_dir = 'test')\n",
    "\n",
    "# Clean up\n",
    "shutil.rmtree('test')"
   ]
  }
 ],
 "metadata": {
  "interpreter": {
   "hash": "1121c938500d1d1673a651684904208c886f2b8f2d12039e3ce916b71ab6704a"
  },
  "kernelspec": {
   "display_name": "Python 3.7.9 64-bit ('cloud': conda)",
   "name": "python3"
  },
  "language_info": {
   "codemirror_mode": {
    "name": "ipython",
    "version": 3
   },
   "file_extension": ".py",
   "mimetype": "text/x-python",
   "name": "python",
   "nbconvert_exporter": "python",
   "pygments_lexer": "ipython3",
   "version": "3.7.9"
  },
  "orig_nbformat": 4
 },
 "nbformat": 4,
 "nbformat_minor": 2
}
